{
 "cells": [
  {
   "cell_type": "code",
   "execution_count": 1,
   "id": "8e08acd4-0b08-4f75-8f0e-6041b8a2f448",
   "metadata": {},
   "outputs": [
    {
     "name": "stdout",
     "output_type": "stream",
     "text": [
      "22/07/31 12:13:16 WARN Utils: Your hostname, Aymans-MacBook-Pro-2.local resolves to a loopback address: 127.0.0.1; using 192.168.0.101 instead (on interface en0)\n",
      "22/07/31 12:13:16 WARN Utils: Set SPARK_LOCAL_IP if you need to bind to another address\n"
     ]
    },
    {
     "name": "stderr",
     "output_type": "stream",
     "text": [
      "Setting default log level to \"WARN\".\n",
      "To adjust logging level use sc.setLogLevel(newLevel). For SparkR, use setLogLevel(newLevel).\n"
     ]
    },
    {
     "name": "stdout",
     "output_type": "stream",
     "text": [
      "22/07/31 12:13:16 WARN NativeCodeLoader: Unable to load native-hadoop library for your platform... using builtin-java classes where applicable\n"
     ]
    }
   ],
   "source": [
    "import os\n",
    "from pyspark.sql import SparkSession\n",
    "\n",
    "spark = SparkSession \\\n",
    "    .builder \\\n",
    "    .appName(\"chemical_loading\") \\\n",
    "    .config(\"spark.some.config.option\", \"some-value\") \\\n",
    "    .getOrCreate()"
   ]
  },
  {
   "cell_type": "code",
   "execution_count": 2,
   "id": "ef41ca92-8c76-433f-a01d-ea5dfd7a30ee",
   "metadata": {},
   "outputs": [],
   "source": [
    "diapole_moments = spark.read.option(\"header\",True).csv('../data/dipole_moments.csv')\n",
    "magnet_sheilding_tensors = spark.read.option(\"header\",True).csv('../data/magnetic_shielding_tensors.csv')\n",
    "mulliken_charges = spark.read.option(\"header\",True).csv('../data/mulliken_charges.csv')\n",
    "potential_energy = spark.read.option(\"header\",True).csv('../data/potential_energy.csv')\n",
    "scalar_coupling_contribution = spark.read.option(\"header\",True).csv('../data/scalar_coupling_contributions.csv')\n",
    "structures = spark.read.option(\"header\",True).csv('../data/structures.csv')"
   ]
  },
  {
   "cell_type": "code",
   "execution_count": 3,
   "id": "f2684635-fa1a-4870-a017-88bbb26d70cd",
   "metadata": {},
   "outputs": [],
   "source": [
    "dm_pe = diapole_moments.alias('a')\\\n",
    "        .join(potential_energy.alias('b'), diapole_moments.molecule_name == potential_energy.molecule_name, \"left\")\\\n",
    "        .select(\"a.molecule_name\", \"a.X\", \"a.Y\", \"a.Z\", \"b.potential_energy\")"
   ]
  },
  {
   "cell_type": "code",
   "execution_count": 4,
   "id": "3536ad16-2749-42d9-b6f7-dd059164c398",
   "metadata": {},
   "outputs": [],
   "source": [
    "dm_pe_mc = dm_pe.alias('a')\\\n",
    "    .join(mulliken_charges.alias('b'), dm_pe.molecule_name == mulliken_charges.molecule_name, \"left\")\\\n",
    "    .select(\"a.molecule_name\", \"a.X\", \"a.Y\", \"a.Z\", \"a.potential_energy\", \"b.atom_index\", \"b.mulliken_charge\")"
   ]
  },
  {
   "cell_type": "code",
   "execution_count": 5,
   "id": "186b6527-c916-4bdf-8426-c17f804e0ce6",
   "metadata": {},
   "outputs": [],
   "source": [
    "dm_pe_mc_mst = dm_pe_mc.alias('a')\\\n",
    "    .join(\n",
    "        magnet_sheilding_tensors.alias('b'), \n",
    "        (dm_pe_mc.molecule_name == magnet_sheilding_tensors.molecule_name) & (dm_pe_mc.atom_index == magnet_sheilding_tensors.atom_index)\n",
    "        , \"left\")\\\n",
    "    .select(\n",
    "        \"a.molecule_name\", \n",
    "        \"a.X\", \n",
    "        \"a.Y\",\n",
    "        \"a.Z\", \n",
    "        \"a.potential_energy\", \n",
    "        \"a.atom_index\", \n",
    "        \"a.mulliken_charge\", \n",
    "        \"b.XX\", \"b.YX\", \"b.ZX\", \"b.XY\", \"b.YY\", \"b.ZY\", \"b.XZ\", \"b.YZ\", \"b.ZZ\")"
   ]
  },
  {
   "cell_type": "code",
   "execution_count": 6,
   "id": "c9ed64b6-5192-4347-af9a-1a85a70f4555",
   "metadata": {},
   "outputs": [],
   "source": [
    "dm_pe_mc_mst_scc = dm_pe_mc_mst.alias('a')\\\n",
    "    .join(\n",
    "        scalar_coupling_contribution.alias('b'), \n",
    "        (dm_pe_mc_mst.molecule_name == scalar_coupling_contribution.molecule_name) & (dm_pe_mc_mst.atom_index == scalar_coupling_contribution.atom_index_0)\n",
    "        , \"left\")\\\n",
    "    .select(\n",
    "        \"a.molecule_name\",\n",
    "        \"a.X\",\n",
    "        \"a.Y\",\n",
    "        \"a.Z\",\n",
    "        \"a.potential_energy\",\n",
    "        \"a.atom_index\",\n",
    "        \"a.mulliken_charge\",\n",
    "        \"a.XX\",\n",
    "        \"a.YX\",\n",
    "        \"a.ZX\",\n",
    "        \"a.XY\",\n",
    "        \"a.YY\",\n",
    "        \"a.ZY\",\n",
    "        \"a.XZ\",\n",
    "        \"a.YZ\",\n",
    "        \"a.ZZ\",\n",
    "        \"b.atom_index_0\",\n",
    "        \"b.atom_index_1\",\n",
    "        \"b.type\",\n",
    "        \"b.fc\",\n",
    "        \"b.sd\",\n",
    "        \"b.pso\",\n",
    "        \"b.dso\"\n",
    ")"
   ]
  },
  {
   "cell_type": "code",
   "execution_count": 7,
   "id": "4a53deb4-e439-41a7-8b22-f43cd5fa7409",
   "metadata": {},
   "outputs": [],
   "source": [
    "dm_pe_mc_mst_scc_struc = dm_pe_mc_mst_scc.alias('a')\\\n",
    "    .join(\n",
    "        structures.alias('b'), \n",
    "        (dm_pe_mc_mst_scc.molecule_name == structures.molecule_name) & (dm_pe_mc_mst.atom_index == structures.atom_index)\n",
    "        , \"left\")\\\n",
    "    .select(\n",
    "    \"a.molecule_name\",\n",
    "    \"a.X\",\n",
    "    \"a.Y\",\n",
    "    \"a.Z\",\n",
    "    \"a.potential_energy\",\n",
    "    \"a.atom_index\",\n",
    "    \"a.mulliken_charge\",\n",
    "    \"a.XX\",\n",
    "    \"a.YX\",\n",
    "    \"a.ZX\",\n",
    "    \"a.XY\",\n",
    "    \"a.YY\",\n",
    "    \"a.ZY\",\n",
    "    \"a.XZ\",\n",
    "    \"a.YZ\",\n",
    "    \"a.ZZ\",\n",
    "    \"a.atom_index_0\",\n",
    "    \"a.atom_index_1\",\n",
    "    \"a.type\",\n",
    "    \"a.fc\",\n",
    "    \"a.sd\",\n",
    "    \"a.pso\",\n",
    "    \"a.dso\",\n",
    "    \"b.atom\",\n",
    "    \"b.x\",\n",
    "    \"b.y\",\n",
    "    \"b.z\"\n",
    ")"
   ]
  },
  {
   "cell_type": "code",
   "execution_count": 8,
   "id": "fca3740b-f013-4b09-9204-b9d53be84b6f",
   "metadata": {},
   "outputs": [
    {
     "name": "stdout",
     "output_type": "stream",
     "text": [
      "22/07/31 12:13:21 WARN package: Truncated the string representation of a plan since it was too large. This behavior can be adjusted by setting 'spark.sql.debug.maxToStringFields'.\n"
     ]
    },
    {
     "name": "stderr",
     "output_type": "stream",
     "text": [
      "[Stage 14:>                                                         (0 + 8) / 8]\r"
     ]
    },
    {
     "name": "stdout",
     "output_type": "stream",
     "text": [
      "+----------------+-------+-------+-------+-------------------+----------+-------------------+----------+--------+-------+-------+---------+-------+-------+-------+--------+------------+------------+----+-------------------+-------------------+--------------------+--------------------+----+--------------------+-------------------+--------------------+\n",
      "|   molecule_name|      X|      Y|      Z|   potential_energy|atom_index|    mulliken_charge|        XX|      YX|     ZX|     XY|       YY|     ZY|     XZ|     YZ|      ZZ|atom_index_0|atom_index_1|type|                 fc|                 sd|                 pso|                 dso|atom|                   x|                  y|                   z|\n",
      "+----------------+-------+-------+-------+-------------------+----------+-------------------+----------+--------+-------+-------+---------+-------+-------+-------+--------+------------+------------+----+-------------------+-------------------+--------------------+--------------------+----+--------------------+-------------------+--------------------+\n",
      "|dsgdb9nsd_000001|    0.0|    0.0|    0.0|        -40.5236795|         4|0.13392300000000001|   31.4029| -4.0942|-1.1793|-4.0944|  34.0776| 1.6259|-1.1795|  1.626| 28.9013|           4|           0|1JHC|            83.0243|           0.254628|  1.2585600000000001|            0.272012|   H| -0.5238136345000001|       1.4379326443|        0.9063972942|\n",
      "|dsgdb9nsd_000005|    0.0|    0.0|-2.8937|        -93.4284884|         0|          -0.049655|    0.0482|     0.0|    0.0|    0.0|   0.0482|    0.0|    0.0|    0.0|278.2653|        null|        null|null|               null|               null|                null|                null|   C|-0.01332393139999...| 1.1324657151000002|        0.0082758861|\n",
      "|dsgdb9nsd_000006|-2.1089|    0.0|    0.0|       -114.5102162|         1|          -0.165863|-1078.0893| -0.0043|-0.0019|-0.0004|-454.4873|    0.0|-0.0068|    0.0|414.1628|        null|        null|null|               null|               null|                null|                null|   O|0.002313986099999...|      -0.0196636557|        0.0021610727|\n",
      "|dsgdb9nsd_000011| 2.3605| 1.0119| 0.0004|       -153.8429678|         4|0.14323699999999998|   29.0037|   1.775|-1.4893|-0.2322|   28.954|-0.2294| -2.599|-1.6474| 30.9785|           4|           0|1JHC|            80.6709|0.17440899999999998|  1.0993700000000002|  0.5694100000000001|   H|       -0.8620154031|        1.878524808|       -0.5647953841|\n",
      "|dsgdb9nsd_000011| 2.3605| 1.0119| 0.0004|       -153.8429678|         4|0.14323699999999998|   29.0037|   1.775|-1.4893|-0.2322|   28.954|-0.2294| -2.599|-1.6474| 30.9785|           4|           1|2JHC|-3.7880599999999998|0.16238699999999998|-0.03862200000000...|-0.11675999999999999|   H|       -0.8620154031|        1.878524808|       -0.5647953841|\n",
      "|dsgdb9nsd_000011| 2.3605| 1.0119| 0.0004|       -153.8429678|         4|0.14323699999999998|   29.0037|   1.775|-1.4893|-0.2322|   28.954|-0.2294| -2.599|-1.6474| 30.9785|           4|           5|2JHH|           -17.7483|           0.384387|             2.43645|            -2.65008|   H|       -0.8620154031|        1.878524808|       -0.5647953841|\n",
      "|dsgdb9nsd_000011| 2.3605| 1.0119| 0.0004|       -153.8429678|         4|0.14323699999999998|   29.0037|   1.775|-1.4893|-0.2322|   28.954|-0.2294| -2.599|-1.6474| 30.9785|           4|           6|3JHH|           0.215153|           0.084005|            0.618686|           -0.719418|   H|       -0.8620154031|        1.878524808|       -0.5647953841|\n",
      "|dsgdb9nsd_000013|    0.0| 0.0597|    0.0|       -119.1556568|         2|          -0.357354|  186.7049|  5.2098|-0.0003|12.0661| 171.1007|-0.0014| -0.002| 0.0022|161.8507|        null|        null|null|               null|               null|                null|                null|   C|        0.7216912862|      -0.5258335257|       -1.2623057014|\n",
      "|dsgdb9nsd_000017|    0.0|-1.7675|    0.0|       -153.7998503|         6|           0.117396|   28.2045|  3.4365|-1.2225| 2.6094|  26.4817|-2.3716|-6.8165|-2.6618| 33.2588|           6|           0|2JHC|          -0.815533|          -0.115441|            0.384307|           -0.451133|   H|        1.8500825819|       0.5526793813|  0.9068014687999999|\n",
      "|dsgdb9nsd_000017|    0.0|-1.7675|    0.0|       -153.7998503|         6|           0.117396|   28.2045|  3.4365|-1.2225| 2.6094|  26.4817|-2.3716|-6.8165|-2.6618| 33.2588|           6|           1|1JHC|            111.489|           0.308367|            0.094301|  0.8258780000000001|   H|        1.8500825819|       0.5526793813|  0.9068014687999999|\n",
      "|dsgdb9nsd_000018|    0.0|-2.7363|    0.0|-193.17172250000002|         8|            0.14277|     33.32| -4.5359|-0.0027| 0.1341|  29.2742| 0.0002|-0.0026| 0.0015| 27.2617|           8|           0|3JHC|            4.47157|           0.051715|            0.317936|-0.47848599999999997|   H|        1.1489250739|-1.7959768946999999|        0.2855439305|\n",
      "|dsgdb9nsd_000018|    0.0|-2.7363|    0.0|-193.17172250000002|         8|            0.14277|     33.32| -4.5359|-0.0027| 0.1341|  29.2742| 0.0002|-0.0026| 0.0015| 27.2617|           8|           1|2JHC|           -5.18055|           0.005772|           -0.283195|           -0.082575|   H|        1.1489250739|-1.7959768946999999|        0.2855439305|\n",
      "|dsgdb9nsd_000018|    0.0|-2.7363|    0.0|-193.17172250000002|         8|            0.14277|     33.32| -4.5359|-0.0027| 0.1341|  29.2742| 0.0002|-0.0026| 0.0015| 27.2617|           8|           2|1JHC|            86.8365|           0.218369|            0.794887|            0.626462|   H|        1.1489250739|-1.7959768946999999|        0.2855439305|\n",
      "|dsgdb9nsd_000018|    0.0|-2.7363|    0.0|-193.17172250000002|         8|            0.14277|     33.32| -4.5359|-0.0027| 0.1341|  29.2742| 0.0002|-0.0026| 0.0015| 27.2617|           8|           9|2JHH|            -10.614|           0.340467|             2.40096|            -2.73088|   H|        1.1489250739|-1.7959768946999999|        0.2855439305|\n",
      "|dsgdb9nsd_000019| 0.1916| -3.615| 0.3468|       -209.2324942|         3|           -0.34849| -169.1998|-25.5752| 1.9535|14.2727|-352.2759|-6.7634|-3.0881| 7.6882|316.5018|        null|        null|null|               null|               null|                null|                null|   O| -1.0372196495000001|      -0.6398064871|-0.40727571869999996|\n",
      "|dsgdb9nsd_000020|-0.0003|-3.4869| 0.0001|-225.28528500000002|         1|           0.412243|  -44.6542|  0.0025| 1.7761| 0.0027|  67.2417| 0.0015| 8.1722| 0.0002| 95.2893|        null|        null|null|               null|               null|                null|                null|   C|-0.02591138220000...|      -0.0207655962|        0.0020064507|\n",
      "|dsgdb9nsd_000020|-0.0003|-3.4869| 0.0001|-225.28528500000002|         3|          -0.366992|  -94.9048|  0.0022|-2.4523|-0.0042|-144.1107|-0.0026| 9.3035|-0.0253|302.7689|        null|        null|null|               null|               null|                null|                null|   O|       -1.0682286604|      -0.6417459677|        0.0086557294|\n",
      "|dsgdb9nsd_000020|-0.0003|-3.4869| 0.0001|-225.28528500000002|         5|           0.261619|   35.1067| -5.4932|  1.428|-0.1983|  26.3051|  0.121| 1.7577|-0.0481| 24.8661|           5|           0|1JHN|            49.5454|           0.081858|             1.52987|            0.219073|   H|       -0.8582577528|       1.8037349999|        0.0224376956|\n",
      "|dsgdb9nsd_000020|-0.0003|-3.4869| 0.0001|-225.28528500000002|         5|           0.261619|   35.1067| -5.4932|  1.428|-0.1983|  26.3051|  0.121| 1.7577|-0.0481| 24.8661|           5|           1|2JHC|           -1.17739|          -0.086255|           -0.583083|           -0.303388|   H|       -0.8582577528|       1.8037349999|        0.0224376956|\n",
      "|dsgdb9nsd_000020|-0.0003|-3.4869| 0.0001|-225.28528500000002|         5|           0.261619|   35.1067| -5.4932|  1.428|-0.1983|  26.3051|  0.121| 1.7577|-0.0481| 24.8661|           5|           2|3JHN|            1.89002|           0.007077|            0.096835|-0.20872399999999997|   H|       -0.8582577528|       1.8037349999|        0.0224376956|\n",
      "+----------------+-------+-------+-------+-------------------+----------+-------------------+----------+--------+-------+-------+---------+-------+-------+-------+--------+------------+------------+----+-------------------+-------------------+--------------------+--------------------+----+--------------------+-------------------+--------------------+\n",
      "only showing top 20 rows\n",
      "\n"
     ]
    },
    {
     "name": "stderr",
     "output_type": "stream",
     "text": [
      "                                                                                \r"
     ]
    }
   ],
   "source": [
    "dm_pe_mc_mst_scc_struc.show()"
   ]
  },
  {
   "cell_type": "code",
   "execution_count": 9,
   "id": "e0dbca5f-6784-40ec-b78b-0074dd479395",
   "metadata": {},
   "outputs": [
    {
     "name": "stderr",
     "output_type": "stream",
     "text": [
      "[Stage 26:>   (0 + 8) / 8][Stage 27:>   (0 + 0) / 2][Stage 29:>   (0 + 0) / 1]\r"
     ]
    },
    {
     "name": "stdout",
     "output_type": "stream",
     "text": [
      "+----------------+---+---+---+----------------+----------+-------------------+--------+-------+-------+-------+--------+-------+-------+-------+--------+------------+------------+----+--------+--------+------------------+-------------------+----+---------------------+-------------+--------------------+\n",
      "|molecule_name   |X  |Y  |Z  |potential_energy|atom_index|mulliken_charge    |XX      |YX     |ZX     |XY     |YY      |ZY     |XZ     |YZ     |ZZ      |atom_index_0|atom_index_1|type|fc      |sd      |pso               |dso                |atom|x                    |y            |z                   |\n",
      "+----------------+---+---+---+----------------+----------+-------------------+--------+-------+-------+-------+--------+-------+-------+-------+--------+------------+------------+----+--------+--------+------------------+-------------------+----+---------------------+-------------+--------------------+\n",
      "|dsgdb9nsd_000001|0.0|0.0|0.0|-40.5236795     |4         |0.13392300000000001|31.4029 |-4.0942|-1.1793|-4.0944|34.0776 |1.6259 |-1.1795|1.626  |28.9013 |4           |0           |1JHC|83.0243 |0.254628|1.2585600000000001|0.272012           |H   |-0.5238136345000001  |1.4379326443 |0.9063972942        |\n",
      "|dsgdb9nsd_000001|0.0|0.0|0.0|-40.5236795     |0         |-0.5356890000000001|195.3147|0.0    |-0.0001|0.0    |195.3171|0.0007 |-0.0001|0.0007 |195.3169|null        |null        |null|null    |null    |null              |null               |C   |-0.012698135900000001|1.0858041578 |0.008000995799999999|\n",
      "|dsgdb9nsd_000001|0.0|0.0|0.0|-40.5236795     |3         |0.13392300000000001|31.5172 |4.1086 |1.2723 |4.1088 |33.9068 |1.695  |1.2724 |1.6951 |28.9579 |3           |4           |2JHH|-11.0319|0.352943|2.8585599999999998|-3.43393           |H   |-0.540815069         |1.4475266138 |-0.8766437152       |\n",
      "|dsgdb9nsd_000001|0.0|0.0|0.0|-40.5236795     |3         |0.13392300000000001|31.5172 |4.1086 |1.2723 |4.1088 |33.9068 |1.695  |1.2724 |1.6951 |28.9579 |3           |0           |1JHC|83.0241 |0.254634|1.2585600000000001|0.272012           |H   |-0.540815069         |1.4475266138 |-0.8766437152       |\n",
      "|dsgdb9nsd_000001|0.0|0.0|0.0|-40.5236795     |2         |0.133922           |31.5814 |1.2173 |-4.1474|1.2173 |28.9036 |-1.6036|-4.1476|-1.6036|33.8967 |2           |4           |2JHH|-11.0324|0.352943|2.85853           |-3.4338699999999998|H   |1.0117308433         |1.4637511618 |0.0002765748        |\n",
      "|dsgdb9nsd_000001|0.0|0.0|0.0|-40.5236795     |2         |0.133922           |31.5814 |1.2173 |-4.1474|1.2173 |28.9036 |-1.6036|-4.1476|-1.6036|33.8967 |2           |3           |2JHH|-11.0317|0.352932|2.8585599999999998|-3.43395           |H   |1.0117308433         |1.4637511618 |0.0002765748        |\n",
      "|dsgdb9nsd_000001|0.0|0.0|0.0|-40.5236795     |2         |0.133922           |31.5814 |1.2173 |-4.1474|1.2173 |28.9036 |-1.6036|-4.1476|-1.6036|33.8967 |2           |0           |1JHC|83.0222 |0.254585|1.25861           |0.272013           |H   |1.0117308433         |1.4637511618 |0.0002765748        |\n",
      "|dsgdb9nsd_000001|0.0|0.0|0.0|-40.5236795     |1         |0.133921           |31.341  |-1.2317|4.0544 |-1.2317|28.9546 |-1.7173|4.0546 |-1.7173|34.0861 |1           |4           |2JHH|-11.0319|0.352934|2.85855           |-3.43393           |H   |0.002150416          |-0.0060313176|0.0019761204        |\n",
      "|dsgdb9nsd_000001|0.0|0.0|0.0|-40.5236795     |1         |0.133921           |31.341  |-1.2317|4.0544 |-1.2317|28.9546 |-1.7173|4.0546 |-1.7173|34.0861 |1           |3           |2JHH|-11.0325|0.352944|2.85852           |-3.4338699999999998|H   |0.002150416          |-0.0060313176|0.0019761204        |\n",
      "|dsgdb9nsd_000001|0.0|0.0|0.0|-40.5236795     |1         |0.133921           |31.341  |-1.2317|4.0544 |-1.2317|28.9546 |-1.7173|4.0546 |-1.7173|34.0861 |1           |2           |2JHH|-11.0347|0.352978|2.85839           |-3.4336            |H   |0.002150416          |-0.0060313176|0.0019761204        |\n",
      "|dsgdb9nsd_000001|0.0|0.0|0.0|-40.5236795     |1         |0.133921           |31.341  |-1.2317|4.0544 |-1.2317|28.9546 |-1.7173|4.0546 |-1.7173|34.0861 |1           |0           |1JHC|83.0224 |0.254579|1.25862           |0.27201            |H   |0.002150416          |-0.0060313176|0.0019761204        |\n",
      "+----------------+---+---+---+----------------+----------+-------------------+--------+-------+-------+-------+--------+-------+-------+-------+--------+------------+------------+----+--------+--------+------------------+-------------------+----+---------------------+-------------+--------------------+\n",
      "\n"
     ]
    },
    {
     "name": "stderr",
     "output_type": "stream",
     "text": [
      "                                                                                \r"
     ]
    }
   ],
   "source": [
    "dm_pe_mc_mst_scc_struc.filter(dm_pe_mc_mst_scc_struc.molecule_name == \"dsgdb9nsd_000001\").show(truncate=False)"
   ]
  },
  {
   "cell_type": "code",
   "execution_count": 10,
   "id": "131025a5-c451-4318-ad2e-519cea753da7",
   "metadata": {},
   "outputs": [
    {
     "name": "stdout",
     "output_type": "stream",
     "text": [
      "root\n",
      " |-- molecule_name: string (nullable = true)\n",
      " |-- X: string (nullable = true)\n",
      " |-- Y: string (nullable = true)\n",
      " |-- Z: string (nullable = true)\n",
      " |-- potential_energy: string (nullable = true)\n",
      " |-- atom_index: string (nullable = true)\n",
      " |-- mulliken_charge: string (nullable = true)\n",
      " |-- XX: string (nullable = true)\n",
      " |-- YX: string (nullable = true)\n",
      " |-- ZX: string (nullable = true)\n",
      " |-- XY: string (nullable = true)\n",
      " |-- YY: string (nullable = true)\n",
      " |-- ZY: string (nullable = true)\n",
      " |-- XZ: string (nullable = true)\n",
      " |-- YZ: string (nullable = true)\n",
      " |-- ZZ: string (nullable = true)\n",
      " |-- atom_index_0: string (nullable = true)\n",
      " |-- atom_index_1: string (nullable = true)\n",
      " |-- type: string (nullable = true)\n",
      " |-- fc: string (nullable = true)\n",
      " |-- sd: string (nullable = true)\n",
      " |-- pso: string (nullable = true)\n",
      " |-- dso: string (nullable = true)\n",
      " |-- atom: string (nullable = true)\n",
      " |-- x: string (nullable = true)\n",
      " |-- y: string (nullable = true)\n",
      " |-- z: string (nullable = true)\n",
      "\n"
     ]
    }
   ],
   "source": [
    "dm_pe_mc_mst_scc_struc.printSchema()"
   ]
  },
  {
   "cell_type": "code",
   "execution_count": null,
   "id": "5a916e72-09bb-46bd-b396-679ca49e1e9d",
   "metadata": {},
   "outputs": [],
   "source": []
  }
 ],
 "metadata": {
  "kernelspec": {
   "display_name": "Python 3 (ipykernel)",
   "language": "python",
   "name": "python3"
  },
  "language_info": {
   "codemirror_mode": {
    "name": "ipython",
    "version": 3
   },
   "file_extension": ".py",
   "mimetype": "text/x-python",
   "name": "python",
   "nbconvert_exporter": "python",
   "pygments_lexer": "ipython3",
   "version": "3.10.5"
  }
 },
 "nbformat": 4,
 "nbformat_minor": 5
}
