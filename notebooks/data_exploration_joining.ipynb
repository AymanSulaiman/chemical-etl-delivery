{
 "cells": [
  {
   "cell_type": "code",
   "execution_count": 1,
   "id": "8e08acd4-0b08-4f75-8f0e-6041b8a2f448",
   "metadata": {},
   "outputs": [
    {
     "name": "stdout",
     "output_type": "stream",
     "text": [
      "22/09/05 16:24:36 WARN Utils: Your hostname, Aymans-MacBook-Pro-2.local resolves to a loopback address: 127.0.0.1; using 192.168.0.101 instead (on interface en0)\n",
      "22/09/05 16:24:36 WARN Utils: Set SPARK_LOCAL_IP if you need to bind to another address\n"
     ]
    },
    {
     "name": "stderr",
     "output_type": "stream",
     "text": [
      "Setting default log level to \"WARN\".\n",
      "To adjust logging level use sc.setLogLevel(newLevel). For SparkR, use setLogLevel(newLevel).\n"
     ]
    },
    {
     "name": "stdout",
     "output_type": "stream",
     "text": [
      "22/09/05 16:24:36 WARN NativeCodeLoader: Unable to load native-hadoop library for your platform... using builtin-java classes where applicable\n"
     ]
    }
   ],
   "source": [
    "import os\n",
    "from pyspark.sql import SparkSession\n",
    "\n",
    "spark = SparkSession \\\n",
    "    .builder \\\n",
    "    .appName(\"chemical_loading\") \\\n",
    "    .config(\"spark.some.config.option\", \"some-value\") \\\n",
    "    .getOrCreate()"
   ]
  },
  {
   "cell_type": "code",
   "execution_count": 2,
   "id": "ef41ca92-8c76-433f-a01d-ea5dfd7a30ee",
   "metadata": {},
   "outputs": [],
   "source": [
    "diapole_moments = spark.read.option(\"header\",True).csv('../data/dipole_moments.csv')\n",
    "magnet_sheilding_tensors = spark.read.option(\"header\",True).csv('../data/magnetic_shielding_tensors.csv')\n",
    "mulliken_charges = spark.read.option(\"header\",True).csv('../data/mulliken_charges.csv')\n",
    "potential_energy = spark.read.option(\"header\",True).csv('../data/potential_energy.csv')\n",
    "scalar_coupling_contribution = spark.read.option(\"header\",True).csv('../data/scalar_coupling_contributions.csv')\n",
    "structures = spark.read.option(\"header\",True).csv('../data/structures.csv').withColumnRenamed(\"x\",\"small_x\") \\\n",
    "    .withColumnRenamed(\"y\",\"small_y\")\\\n",
    "    .withColumnRenamed(\"z\",\"small_z\")"
   ]
  },
  {
   "cell_type": "code",
   "execution_count": 3,
   "id": "f2684635-fa1a-4870-a017-88bbb26d70cd",
   "metadata": {},
   "outputs": [],
   "source": [
    "dm_pe = diapole_moments.alias('a')\\\n",
    "        .join(potential_energy.alias('b'), diapole_moments.molecule_name == potential_energy.molecule_name, \"left\")\\\n",
    "        .select(\"a.molecule_name\", \"a.X\", \"a.Y\", \"a.Z\", \"b.potential_energy\")"
   ]
  },
  {
   "cell_type": "code",
   "execution_count": 4,
   "id": "3536ad16-2749-42d9-b6f7-dd059164c398",
   "metadata": {},
   "outputs": [],
   "source": [
    "dm_pe_mc = dm_pe.alias('a')\\\n",
    "    .join(mulliken_charges.alias('b'), dm_pe.molecule_name == mulliken_charges.molecule_name, \"left\")\\\n",
    "    .select(\"a.molecule_name\", \"a.X\", \"a.Y\", \"a.Z\", \"a.potential_energy\", \"b.atom_index\", \"b.mulliken_charge\")"
   ]
  },
  {
   "cell_type": "code",
   "execution_count": 5,
   "id": "186b6527-c916-4bdf-8426-c17f804e0ce6",
   "metadata": {},
   "outputs": [],
   "source": [
    "dm_pe_mc_mst = dm_pe_mc.alias('a')\\\n",
    "    .join(\n",
    "        magnet_sheilding_tensors.alias('b'), \n",
    "        (dm_pe_mc.molecule_name == magnet_sheilding_tensors.molecule_name) & (dm_pe_mc.atom_index == magnet_sheilding_tensors.atom_index)\n",
    "        , \"left\")\\\n",
    "    .select(\n",
    "        \"a.molecule_name\", \n",
    "        \"a.X\", \n",
    "        \"a.Y\",\n",
    "        \"a.Z\", \n",
    "        \"a.potential_energy\", \n",
    "        \"a.atom_index\", \n",
    "        \"a.mulliken_charge\", \n",
    "        \"b.XX\", \"b.YX\", \"b.ZX\", \"b.XY\", \"b.YY\", \"b.ZY\", \"b.XZ\", \"b.YZ\", \"b.ZZ\")"
   ]
  },
  {
   "cell_type": "code",
   "execution_count": 6,
   "id": "c9ed64b6-5192-4347-af9a-1a85a70f4555",
   "metadata": {},
   "outputs": [],
   "source": [
    "dm_pe_mc_mst_scc = dm_pe_mc_mst.alias('a')\\\n",
    "    .join(\n",
    "        scalar_coupling_contribution.alias('b'), \n",
    "        (dm_pe_mc_mst.molecule_name == scalar_coupling_contribution.molecule_name) & (dm_pe_mc_mst.atom_index == scalar_coupling_contribution.atom_index_0)\n",
    "        , \"left\")\\\n",
    "    .select(\n",
    "        \"a.molecule_name\",\n",
    "        \"a.X\",\n",
    "        \"a.Y\",\n",
    "        \"a.Z\",\n",
    "        \"a.potential_energy\",\n",
    "        \"a.atom_index\",\n",
    "        \"a.mulliken_charge\",\n",
    "        \"a.XX\",\n",
    "        \"a.YX\",\n",
    "        \"a.ZX\",\n",
    "        \"a.XY\",\n",
    "        \"a.YY\",\n",
    "        \"a.ZY\",\n",
    "        \"a.XZ\",\n",
    "        \"a.YZ\",\n",
    "        \"a.ZZ\",\n",
    "        \"b.atom_index_0\",\n",
    "        \"b.atom_index_1\",\n",
    "        \"b.type\",\n",
    "        \"b.fc\",\n",
    "        \"b.sd\",\n",
    "        \"b.pso\",\n",
    "        \"b.dso\"\n",
    ")"
   ]
  },
  {
   "cell_type": "code",
   "execution_count": 7,
   "id": "4a53deb4-e439-41a7-8b22-f43cd5fa7409",
   "metadata": {},
   "outputs": [],
   "source": [
    "dm_pe_mc_mst_scc_struc = dm_pe_mc_mst_scc.alias('a')\\\n",
    "    .join(\n",
    "        structures.alias('b'), \n",
    "        (dm_pe_mc_mst_scc.molecule_name == structures.molecule_name) & (dm_pe_mc_mst.atom_index == structures.atom_index)\n",
    "        , \"left\")\\\n",
    "    .select(\n",
    "    \"a.molecule_name\",\n",
    "    \"a.X\",\n",
    "    \"a.Y\",\n",
    "    \"a.Z\",\n",
    "    \"a.potential_energy\",\n",
    "    \"a.atom_index\",\n",
    "    \"a.mulliken_charge\",\n",
    "    \"a.XX\",\n",
    "    \"a.YX\",\n",
    "    \"a.ZX\",\n",
    "    \"a.XY\",\n",
    "    \"a.YY\",\n",
    "    \"a.ZY\",\n",
    "    \"a.XZ\",\n",
    "    \"a.YZ\",\n",
    "    \"a.ZZ\",\n",
    "    \"a.atom_index_0\",\n",
    "    \"a.atom_index_1\",\n",
    "    \"a.type\",\n",
    "    \"a.fc\",\n",
    "    \"a.sd\",\n",
    "    \"a.pso\",\n",
    "    \"a.dso\",\n",
    "    \"b.atom\",\n",
    "    \"b.small_x\",\n",
    "    \"b.small_y\",\n",
    "    \"b.small_z\"\n",
    ")"
   ]
  },
  {
   "cell_type": "code",
   "execution_count": 8,
   "id": "131025a5-c451-4318-ad2e-519cea753da7",
   "metadata": {},
   "outputs": [
    {
     "name": "stdout",
     "output_type": "stream",
     "text": [
      "root\n",
      " |-- molecule_name: string (nullable = true)\n",
      " |-- X: string (nullable = true)\n",
      " |-- Y: string (nullable = true)\n",
      " |-- Z: string (nullable = true)\n",
      " |-- potential_energy: string (nullable = true)\n",
      " |-- atom_index: string (nullable = true)\n",
      " |-- mulliken_charge: string (nullable = true)\n",
      " |-- XX: string (nullable = true)\n",
      " |-- YX: string (nullable = true)\n",
      " |-- ZX: string (nullable = true)\n",
      " |-- XY: string (nullable = true)\n",
      " |-- YY: string (nullable = true)\n",
      " |-- ZY: string (nullable = true)\n",
      " |-- XZ: string (nullable = true)\n",
      " |-- YZ: string (nullable = true)\n",
      " |-- ZZ: string (nullable = true)\n",
      " |-- atom_index_0: string (nullable = true)\n",
      " |-- atom_index_1: string (nullable = true)\n",
      " |-- type: string (nullable = true)\n",
      " |-- fc: string (nullable = true)\n",
      " |-- sd: string (nullable = true)\n",
      " |-- pso: string (nullable = true)\n",
      " |-- dso: string (nullable = true)\n",
      " |-- atom: string (nullable = true)\n",
      " |-- small_x: string (nullable = true)\n",
      " |-- small_y: string (nullable = true)\n",
      " |-- small_z: string (nullable = true)\n",
      "\n"
     ]
    }
   ],
   "source": [
    "dm_pe_mc_mst_scc_struc.printSchema()"
   ]
  },
  {
   "cell_type": "code",
   "execution_count": 9,
   "id": "5a916e72-09bb-46bd-b396-679ca49e1e9d",
   "metadata": {
    "scrolled": true,
    "tags": []
   },
   "outputs": [],
   "source": [
    "# dm_pe_mc_mst_scc_struc.write.partitionBy(\"molecule_name\").option(\"header\", True).parquet(\"../data/all_data_parquet\")"
   ]
  },
  {
   "cell_type": "code",
   "execution_count": 10,
   "id": "3c522a58-087e-484d-9def-e6442a655625",
   "metadata": {},
   "outputs": [
    {
     "name": "stdout",
     "output_type": "stream",
     "text": [
      "22/09/05 16:24:41 WARN package: Truncated the string representation of a plan since it was too large. This behavior can be adjusted by setting 'spark.sql.debug.maxToStringFields'.\n"
     ]
    },
    {
     "name": "stderr",
     "output_type": "stream",
     "text": [
      "                                                                                \r"
     ]
    }
   ],
   "source": [
    "dm_pe_mc_mst_scc_struc.write.option(\"header\", True).csv(\"../data/all_data_csv\")"
   ]
  },
  {
   "cell_type": "code",
   "execution_count": null,
   "id": "25fa37f7-1c08-477e-85a1-9feda63d9ae1",
   "metadata": {},
   "outputs": [],
   "source": []
  }
 ],
 "metadata": {
  "kernelspec": {
   "display_name": "Python 3 (ipykernel)",
   "language": "python",
   "name": "python3"
  },
  "language_info": {
   "codemirror_mode": {
    "name": "ipython",
    "version": 3
   },
   "file_extension": ".py",
   "mimetype": "text/x-python",
   "name": "python",
   "nbconvert_exporter": "python",
   "pygments_lexer": "ipython3",
   "version": "3.8.13"
  }
 },
 "nbformat": 4,
 "nbformat_minor": 5
}
