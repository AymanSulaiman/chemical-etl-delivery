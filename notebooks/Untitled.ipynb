{
 "cells": [
  {
   "cell_type": "code",
   "execution_count": 1,
   "id": "c1fe6ebe-51d6-419c-b312-2582de82aaf9",
   "metadata": {},
   "outputs": [],
   "source": [
    "from sqlalchemy import create_engine\n",
    "from db import password, username\n",
    "from sqlalchemy.ext.declarative import declarative_base\n",
    "from sqlalchemy.orm import sessionmaker\n",
    "from sqlalchemy import Column, Integer, String, Date\n",
    "SQLALCHEMY_DATABASE_URL = f\"postgresql://localhost/postgres\"\n",
    "\n",
    "\n",
    "engine = create_engine(SQLALCHEMY_DATABASE_URL)\n",
    "\n",
    "Session = sessionmaker(bind=engine)\n",
    "\n",
    "session = Session()\n",
    "\n",
    "Base = declarative_base()"
   ]
  },
  {
   "cell_type": "code",
   "execution_count": 2,
   "id": "bdb3ea91-ff7f-43e9-837e-4c30bbad11a8",
   "metadata": {},
   "outputs": [],
   "source": [
    "# class ChemicalTable(Base):\n",
    "#     __tablename__ = 'chemical_table'\n",
    "#     molecule_name = Column(String)\n",
    "#     X = Column(String)\n",
    "#     Y = Column(String)\n",
    "#     Z = Column(String)\n",
    "#     potential_energy = Column(String)\n",
    "#     atom_index = Column(String)\n",
    "#     mulliken_charge = Column(String)\n",
    "#     XX = Column(String)\n",
    "#     YX = Column(String)\n",
    "#     ZX = Column(String)\n",
    "#     XY = Column(String)\n",
    "#     YY = Column(String)\n",
    "#     ZY = Column(String)\n",
    "#     XZ = Column(String)\n",
    "#     YZ = Column(String)\n",
    "#     ZZ = Column(String)\n",
    "#     atom_index_0 = Column(String)\n",
    "#     atom_index_1 = Column(String)\n",
    "#     type = Column(String)\n",
    "#     fc = Column(String)\n",
    "#     sd = Column(String)\n",
    "#     pso = Column(String)\n",
    "#     dso = Column(String)\n",
    "#     atom = Column(String)\n",
    "#     small_x = Column(String)\n",
    "#     small_y = Column(String)\n",
    "#     small_z = Column(String)\n",
    "    \n",
    "#     def __repr__(self):\n",
    "#         return f\"\"\"<ChemicalTable(molecule_name = {self.molecule_name}\n",
    "#                 X = {self.X}\n",
    "#                 Y = {self.Y}\n",
    "#                 Z = {self.Z}\n",
    "#                 potential_energy = {self.potential_energy}\n",
    "#                 atom_index = {self.atom_index}\n",
    "#                 mulliken_charge = {self.mulliken_charge}\n",
    "#                 XX = {self.XX}\n",
    "#                 YX = {self.YX}\n",
    "#                 ZX = {self.ZX}\n",
    "#                 XY = {self.XY}\n",
    "#                 YY = {self.YY}\n",
    "#                 ZY = {self.ZY}\n",
    "#                 XZ = {self.XZ}\n",
    "#                 YZ = {self.YZ}\n",
    "#                 ZZ = {self.ZZ}\n",
    "#                 atom_index_0 = {self.atom_index_0}\n",
    "#                 atom_index_1 = {self.atom_index_1}\n",
    "#                 type = {self.type}\n",
    "#                 fc = {self.fc}\n",
    "#                 sd = {self.sd}\n",
    "#                 pso = {self.pso}\n",
    "#                 dso = {self.dso}\n",
    "#                 atom = {self.atom}\n",
    "#                 small_x = {self.small_x}\n",
    "#                 small_y = {self.small_y}\n",
    "#                 small_z = {self.small_z})>\"\"\""
   ]
  },
  {
   "cell_type": "code",
   "execution_count": 3,
   "id": "b3047c42-483b-4be8-a002-cfba393587b5",
   "metadata": {},
   "outputs": [],
   "source": [
    "# ChemicalTable.__table__"
   ]
  },
  {
   "cell_type": "code",
   "execution_count": 4,
   "id": "fb01b55b-dcdd-4f8d-a65f-6d145ca4a351",
   "metadata": {},
   "outputs": [
    {
     "ename": "IndexError",
     "evalue": "list index out of range",
     "output_type": "error",
     "traceback": [
      "\u001b[0;31m---------------------------------------------------------------------------\u001b[0m",
      "\u001b[0;31mIndexError\u001b[0m                                Traceback (most recent call last)",
      "Cell \u001b[0;32mIn [4], line 1\u001b[0m\n\u001b[0;32m----> 1\u001b[0m x \u001b[38;5;241m=\u001b[39m \u001b[43msession\u001b[49m\u001b[38;5;241;43m.\u001b[39;49m\u001b[43mquery\u001b[49m\u001b[43m(\u001b[49m\u001b[43m)\u001b[49m\u001b[38;5;241;43m.\u001b[39;49m\u001b[43mfilter_by\u001b[49m\u001b[43m(\u001b[49m\u001b[43mmolecule_name\u001b[49m\u001b[38;5;241;43m=\u001b[39;49m\u001b[38;5;124;43m'\u001b[39;49m\u001b[38;5;124;43mdsgdb9nsd_000001\u001b[39;49m\u001b[38;5;124;43m'\u001b[39;49m\u001b[43m)\u001b[49m\n",
      "File \u001b[0;32m~/miniforge3/envs/spark/lib/python3.10/site-packages/sqlalchemy/orm/query.py:1797\u001b[0m, in \u001b[0;36mQuery.filter_by\u001b[0;34m(self, **kwargs)\u001b[0m\n\u001b[1;32m   1773\u001b[0m \u001b[38;5;28;01mdef\u001b[39;00m \u001b[38;5;21mfilter_by\u001b[39m(\u001b[38;5;28mself\u001b[39m, \u001b[38;5;241m*\u001b[39m\u001b[38;5;241m*\u001b[39mkwargs):\n\u001b[1;32m   1774\u001b[0m     \u001b[38;5;124mr\u001b[39m\u001b[38;5;124;03m\"\"\"Apply the given filtering criterion to a copy\u001b[39;00m\n\u001b[1;32m   1775\u001b[0m \u001b[38;5;124;03m    of this :class:`_query.Query`, using keyword expressions.\u001b[39;00m\n\u001b[1;32m   1776\u001b[0m \n\u001b[0;32m   (...)\u001b[0m\n\u001b[1;32m   1795\u001b[0m \n\u001b[1;32m   1796\u001b[0m \u001b[38;5;124;03m    \"\"\"\u001b[39;00m\n\u001b[0;32m-> 1797\u001b[0m     from_entity \u001b[38;5;241m=\u001b[39m \u001b[38;5;28;43mself\u001b[39;49m\u001b[38;5;241;43m.\u001b[39;49m\u001b[43m_filter_by_zero\u001b[49m\u001b[43m(\u001b[49m\u001b[43m)\u001b[49m\n\u001b[1;32m   1798\u001b[0m     \u001b[38;5;28;01mif\u001b[39;00m from_entity \u001b[38;5;129;01mis\u001b[39;00m \u001b[38;5;28;01mNone\u001b[39;00m:\n\u001b[1;32m   1799\u001b[0m         \u001b[38;5;28;01mraise\u001b[39;00m sa_exc\u001b[38;5;241m.\u001b[39mInvalidRequestError(\n\u001b[1;32m   1800\u001b[0m             \u001b[38;5;124m\"\u001b[39m\u001b[38;5;124mCan\u001b[39m\u001b[38;5;124m'\u001b[39m\u001b[38;5;124mt use filter_by when the first entity \u001b[39m\u001b[38;5;124m'\u001b[39m\u001b[38;5;132;01m%s\u001b[39;00m\u001b[38;5;124m'\u001b[39m\u001b[38;5;124m of a query \u001b[39m\u001b[38;5;124m\"\u001b[39m\n\u001b[1;32m   1801\u001b[0m             \u001b[38;5;124m\"\u001b[39m\u001b[38;5;124mis not a mapped class. Please use the filter method instead, \u001b[39m\u001b[38;5;124m\"\u001b[39m\n\u001b[1;32m   1802\u001b[0m             \u001b[38;5;124m\"\u001b[39m\u001b[38;5;124mor change the order of the entities in the query\u001b[39m\u001b[38;5;124m\"\u001b[39m\n\u001b[1;32m   1803\u001b[0m             \u001b[38;5;241m%\u001b[39m \u001b[38;5;28mself\u001b[39m\u001b[38;5;241m.\u001b[39m_query_entity_zero()\n\u001b[1;32m   1804\u001b[0m         )\n",
      "File \u001b[0;32m~/miniforge3/envs/spark/lib/python3.10/site-packages/sqlalchemy/orm/query.py:1771\u001b[0m, in \u001b[0;36mQuery._filter_by_zero\u001b[0;34m(self)\u001b[0m\n\u001b[1;32m   1768\u001b[0m \u001b[38;5;28;01mif\u001b[39;00m \u001b[38;5;28mself\u001b[39m\u001b[38;5;241m.\u001b[39m_from_obj \u001b[38;5;129;01mand\u001b[39;00m \u001b[38;5;129;01mnot\u001b[39;00m \u001b[38;5;28mself\u001b[39m\u001b[38;5;241m.\u001b[39m_compile_options\u001b[38;5;241m.\u001b[39m_set_base_alias:\n\u001b[1;32m   1769\u001b[0m     \u001b[38;5;28;01mreturn\u001b[39;00m \u001b[38;5;28mself\u001b[39m\u001b[38;5;241m.\u001b[39m_from_obj[\u001b[38;5;241m0\u001b[39m]\n\u001b[0;32m-> 1771\u001b[0m \u001b[38;5;28;01mreturn\u001b[39;00m \u001b[38;5;28;43mself\u001b[39;49m\u001b[38;5;241;43m.\u001b[39;49m\u001b[43m_raw_columns\u001b[49m\u001b[43m[\u001b[49m\u001b[38;5;241;43m0\u001b[39;49m\u001b[43m]\u001b[49m\n",
      "\u001b[0;31mIndexError\u001b[0m: list index out of range"
     ]
    }
   ],
   "source": [
    "x = session.query().filter_by(molecule_name='dsgdb9nsd_000001')"
   ]
  },
  {
   "cell_type": "code",
   "execution_count": null,
   "id": "89f2cfc0-350d-4fd6-9965-7dd84f528450",
   "metadata": {},
   "outputs": [],
   "source": [
    "for i in x:\n",
    "    print(i)"
   ]
  },
  {
   "cell_type": "code",
   "execution_count": null,
   "id": "9e2a1847-dab0-4aee-9848-6d687a54484c",
   "metadata": {},
   "outputs": [],
   "source": []
  }
 ],
 "metadata": {
  "kernelspec": {
   "display_name": "Python 3 (ipykernel)",
   "language": "python",
   "name": "python3"
  },
  "language_info": {
   "codemirror_mode": {
    "name": "ipython",
    "version": 3
   },
   "file_extension": ".py",
   "mimetype": "text/x-python",
   "name": "python",
   "nbconvert_exporter": "python",
   "pygments_lexer": "ipython3",
   "version": "3.10.6"
  }
 },
 "nbformat": 4,
 "nbformat_minor": 5
}
